{
 "cells": [
  {
   "cell_type": "code",
   "execution_count": 1,
   "metadata": {},
   "outputs": [],
   "source": [
    "from IPython.display import clear_output\n",
    "#from colorama import Fore, Back, Style \n",
    "\n",
    "#main\n",
    "def lets_play_gato(): #I'm quite sleep-deprived and think that this should be easy\n",
    "   #define variables\n",
    "    board = ['#','1','2','3','4','5','6','7','8','9']\n",
    "    winner=\"zero\"\n",
    "    i=0\n",
    "   #P1 selects mark, P2 Selected by default\n",
    "    player=player_input()\n",
    "    print(player)\n",
    "   #load P1 variables\n",
    "    currentp=player[1]\n",
    "    print(currentp)\n",
    "   #draw board\n",
    "    display_board(board)\n",
    "   #game loop\n",
    "    while i<9:\n",
    "        i+=1\n",
    "        print(i)\n",
    "       #request position\n",
    "        pos = position_input(currentp,board)\n",
    "       #update board \n",
    "        board = update_board(currentp,pos,board)\n",
    "       #clean display and draw updated board\n",
    "        clear_output(wait=True)\n",
    "        display_board(board)\n",
    "       #check winnner \n",
    "        winner=check_winner(board)\n",
    "        if winner!='zero': \n",
    "            winner2player(winner, player)\n",
    "            print(f\"the end, winner {winner}\")\n",
    "            return \"Bye\"\n",
    "        else:\n",
    "            print(\"no winner yet\")  \n",
    "       #switch player variabless\n",
    "        currentp=switch_player(currentp,player)\n",
    "        print(\"current playrer is\")\n",
    "        print(currentp)\n",
    "        winner=\"zero\"\n",
    "    print(\"empate, bye\")\n",
    "    \n",
    "\n",
    "\n",
    "\n",
    "\n",
    "\n",
    "\n",
    "#P1 select mark\n",
    "def player_input():\n",
    "    player1 = ''\n",
    "    #clear_output(wait=True)\n",
    "    while player1 not in ['O','X','x','o']:\n",
    "        player1 = input(\"Player 1, select mark: X or O?\")\n",
    "        clear_output(wait=True)\n",
    "    player1=player1.upper()\n",
    "    print(f\"Player 1 selected {player1}\")\n",
    "    #player 2 by default\n",
    "    player2=\"XO\".replace(player1,\"\")\n",
    "    print(f\"Player 2 gets {player2}\")\n",
    "    player=(\"ko\",player1,player2)\n",
    "    return player\n",
    "\n",
    "#load p1 variables\n",
    "def LoadP1Var(player):\n",
    "    currentp=player[1]\n",
    "    return currentp\n",
    "\n",
    "#display board\n",
    "def display_board(board):\n",
    "    #for i in range(10):\n",
    "        #clear_output(wait=True)\n",
    "    print(board[7]+'|'+board[8]+'|'+board[9])\n",
    "    print(board[4]+'|'+board[5]+'|'+board[6])\n",
    "    print(board[1]+'|'+board[2]+'|'+board[3])\n",
    "\n",
    "#ask for next position\n",
    "def position_input(currentp,board):\n",
    "    pos = 0\n",
    "    lup=True\n",
    "    while lup:\n",
    "        pos = input(f\"Select position for {currentp}?\")\n",
    "        print(pos)\n",
    "        if pos==\"\":\n",
    "            pos=\"20\"\n",
    "        if int(pos) < 10 and pos in board and int(pos) > 0:\n",
    "            print(\"Invalid input\")\n",
    "            lup=False\n",
    "    print(f\"Selected {pos}\")\n",
    "    return int(pos)\n",
    "\n",
    "#update board\n",
    "def update_board(currentp,pos,board):\n",
    "    board[pos]=currentp\n",
    "    return board\n",
    "\n",
    "#check winner\n",
    "def check_winner(board):\n",
    "    # 3 horizontal\n",
    "    winner=\"zero\"\n",
    "    if board[7]==board[8]==board[9]:\n",
    "        winner=board[7]\n",
    "    elif board[4]==board[5]==board[6]:\n",
    "        winner=board[4]\n",
    "    elif board[1]==board[2]==board[3]:\n",
    "        winner=board[1]\n",
    "    #3 vertical\n",
    "    elif board[7]==board[4]==board[1]:\n",
    "        winner=board[7]\n",
    "    elif board[8]==board[5]==board[2]:\n",
    "        winner=board[8]\n",
    "    elif board[9]==board[6]==board[3]:\n",
    "        winner=board[9]\n",
    "    #2 diagonal\n",
    "    elif board[7]==board[5]==board[3]:\n",
    "        winner=board[7]\n",
    "    elif board[9]==board[5]==board[1]:\n",
    "        winner=board[9]\n",
    "    return winner\n",
    "        \n",
    "#translate winner\n",
    "def winner2player(winner, player):\n",
    "    if winner == player[1]:\n",
    "        print(\"Congrats Player 1\")\n",
    "    elif winner == player[2]:\n",
    "        print(\"Congrats Player 2\")\n",
    "\n",
    "#switch player or stop\n",
    "def switch_player(currentp,player):\n",
    "    if currentp==player[1]:\n",
    "        currentp=player[2]\n",
    "    else:\n",
    "        currentp=player[1]\n",
    "    return currentp\n",
    "\n"
   ]
  },
  {
   "cell_type": "code",
   "execution_count": 3,
   "metadata": {},
   "outputs": [
    {
     "name": "stdout",
     "output_type": "stream",
     "text": [
      "O|O|X\n",
      "X|X|O\n",
      "O|X|O\n",
      "no winner yet\n",
      "current playrer is\n",
      "X\n",
      "empate, bye\n"
     ]
    }
   ],
   "source": [
    "lets_play_gato()"
   ]
  },
  {
   "cell_type": "code",
   "execution_count": 9,
   "metadata": {},
   "outputs": [
    {
     "name": "stdout",
     "output_type": "stream",
     "text": [
      "Select position for X?10\n",
      "10\n",
      "Select position for X?3\n",
      "3\n",
      "Selected 3\n"
     ]
    },
    {
     "data": {
      "text/plain": [
       "3"
      ]
     },
     "execution_count": 9,
     "metadata": {},
     "output_type": "execute_result"
    }
   ],
   "source": [
    "currentp='X'\n",
    "position_input(currentp)"
   ]
  },
  {
   "cell_type": "code",
   "execution_count": 4,
   "metadata": {},
   "outputs": [],
   "source": [
    "def sonsi():\n",
    "    return \"ssonsi\""
   ]
  },
  {
   "cell_type": "code",
   "execution_count": 5,
   "metadata": {},
   "outputs": [
    {
     "data": {
      "text/plain": [
       "'ssonsi'"
      ]
     },
     "execution_count": 5,
     "metadata": {},
     "output_type": "execute_result"
    }
   ],
   "source": [
    "sonsi()"
   ]
  },
  {
   "cell_type": "code",
   "execution_count": null,
   "metadata": {},
   "outputs": [],
   "source": []
  }
 ],
 "metadata": {
  "kernelspec": {
   "display_name": "Python 3",
   "language": "python",
   "name": "python3"
  },
  "language_info": {
   "codemirror_mode": {
    "name": "ipython",
    "version": 3
   },
   "file_extension": ".py",
   "mimetype": "text/x-python",
   "name": "python",
   "nbconvert_exporter": "python",
   "pygments_lexer": "ipython3",
   "version": "3.7.4"
  }
 },
 "nbformat": 4,
 "nbformat_minor": 2
}
